{
 "cells": [
  {
   "cell_type": "markdown",
   "id": "alone-russia",
   "metadata": {},
   "source": [
    "# 10.1.a"
   ]
  },
  {
   "cell_type": "code",
   "execution_count": 1,
   "id": "strange-boost",
   "metadata": {},
   "outputs": [],
   "source": [
    "import keras"
   ]
  },
  {
   "cell_type": "code",
   "execution_count": 2,
   "id": "adjacent-dimension",
   "metadata": {},
   "outputs": [],
   "source": [
    "def tokenize(sentence):\n",
    "    tokens = keras.preprocessing.text.text_to_word_sequence(sentence)\n",
    "    return(tokens)"
   ]
  },
  {
   "cell_type": "code",
   "execution_count": 3,
   "id": "emerging-platinum",
   "metadata": {},
   "outputs": [
    {
     "data": {
      "text/plain": [
       "['the', 'five', 'boxing', 'wizards', 'jump', 'quickly']"
      ]
     },
     "execution_count": 3,
     "metadata": {},
     "output_type": "execute_result"
    }
   ],
   "source": [
    "tokens = tokenize(\"The five boxing wizards jump quickly.\")\n",
    "tokens"
   ]
  },
  {
   "cell_type": "markdown",
   "id": "departmental-upper",
   "metadata": {},
   "source": [
    "# 10.1.b"
   ]
  },
  {
   "cell_type": "code",
   "execution_count": 4,
   "id": "authorized-canadian",
   "metadata": {},
   "outputs": [],
   "source": [
    "def ngram(tokens, n):\n",
    "    ngrams = []\n",
    "    for i in range(len(tokens)-n+1):\n",
    "        ngram = ' '.join(word_list for word_list in tokens[i:i+n])\n",
    "        ngrams.append(ngram)\n",
    "    return(ngrams)"
   ]
  },
  {
   "cell_type": "code",
   "execution_count": 5,
   "id": "exact-assignment",
   "metadata": {},
   "outputs": [
    {
     "data": {
      "text/plain": [
       "['the five boxing wizards',\n",
       " 'five boxing wizards jump',\n",
       " 'boxing wizards jump quickly']"
      ]
     },
     "execution_count": 5,
     "metadata": {},
     "output_type": "execute_result"
    }
   ],
   "source": [
    "ngram = ngram(tokens,4)\n",
    "ngram"
   ]
  },
  {
   "cell_type": "markdown",
   "id": "romantic-dictionary",
   "metadata": {},
   "source": [
    "# 10.1.c"
   ]
  },
  {
   "cell_type": "code",
   "execution_count": 6,
   "id": "according-ballot",
   "metadata": {},
   "outputs": [],
   "source": [
    "def one_hot_encode(tokens, num_words = len(set(tokens))):\n",
    "    num_words += 1 \n",
    "    tokenizer = keras.preprocessing.text.Tokenizer(num_words = num_words)\n",
    "    tokenizer.fit_on_texts(tokens)\n",
    "    sequences = tokenizer.texts_to_sequences(tokens)\n",
    "    results = tokenizer.texts_to_matrix(tokens, mode='binary')\n",
    "    results = results[:, 1:]\n",
    "    token_index = tokenizer.word_index\n",
    "    return(results)"
   ]
  },
  {
   "cell_type": "code",
   "execution_count": 10,
   "id": "laden-gazette",
   "metadata": {},
   "outputs": [
    {
     "data": {
      "text/plain": [
       "array([[1., 0., 0., 0., 0., 0.],\n",
       "       [0., 1., 0., 0., 0., 0.],\n",
       "       [0., 0., 1., 0., 0., 0.],\n",
       "       [0., 0., 0., 1., 0., 0.],\n",
       "       [0., 0., 0., 0., 1., 0.],\n",
       "       [0., 0., 0., 0., 0., 1.]])"
      ]
     },
     "execution_count": 10,
     "metadata": {},
     "output_type": "execute_result"
    }
   ],
   "source": [
    "one_hot_encode(tokens)"
   ]
  },
  {
   "cell_type": "markdown",
   "id": "extensive-mistake",
   "metadata": {},
   "source": [
    "# 10.2"
   ]
  },
  {
   "cell_type": "code",
   "execution_count": 11,
   "id": "affected-traveler",
   "metadata": {},
   "outputs": [],
   "source": [
    "import os\n",
    "import numpy as np\n",
    "\n",
    "imdb_dir = '/home/jovyan/dsc650/data/external/imdb/aclImdb'\n",
    "train_dir = os.path.join(imdb_dir, 'train')\n",
    "\n",
    "labels = []\n",
    "texts = []\n",
    "\n",
    "for label_type in ['neg', 'pos']:\n",
    "    dir_name = os.path.join(train_dir, label_type)\n",
    "    for fname in os.listdir(dir_name):\n",
    "        if fname[-4:] == '.txt':\n",
    "            f = open(os.path.join(dir_name, fname))\n",
    "            texts.append(f.read())\n",
    "            f.close()\n",
    "            if label_type == 'neg':\n",
    "                labels.append(0)\n",
    "            else:\n",
    "                labels.append(1)"
   ]
  },
  {
   "cell_type": "code",
   "execution_count": 12,
   "id": "italic-england",
   "metadata": {},
   "outputs": [],
   "source": [
    "max_words = 1000\n",
    "embedding_dim = 100\n",
    "maxlen = 100\n",
    "training_samples = 200\n",
    "validation_samples = 1000"
   ]
  },
  {
   "cell_type": "code",
   "execution_count": 13,
   "id": "overhead-signature",
   "metadata": {},
   "outputs": [],
   "source": [
    "tokenizer = keras.preprocessing.text.Tokenizer(num_words=max_words)\n",
    "tokenizer.fit_on_texts(texts)\n",
    "sequences = tokenizer.texts_to_sequences(texts)\n",
    "\n",
    "data = keras.preprocessing.sequence.pad_sequences(sequences,maxlen=maxlen)\n",
    "labels = np.asarray(labels)"
   ]
  },
  {
   "cell_type": "code",
   "execution_count": 14,
   "id": "lightweight-criticism",
   "metadata": {},
   "outputs": [],
   "source": [
    "indices = np.arange(data.shape[0])\n",
    "np.random.shuffle(indices)\n",
    "\n",
    "data = data[indices]\n",
    "labels = labels[indices]"
   ]
  },
  {
   "cell_type": "code",
   "execution_count": 15,
   "id": "copyrighted-viewer",
   "metadata": {},
   "outputs": [],
   "source": [
    "x_train = data[:training_samples]\n",
    "y_train = labels[:training_samples]\n",
    "x_val = data[training_samples: training_samples + validation_samples]\n",
    "y_val = labels[training_samples: training_samples + validation_samples]"
   ]
  },
  {
   "cell_type": "code",
   "execution_count": 16,
   "id": "descending-screen",
   "metadata": {},
   "outputs": [],
   "source": [
    "from keras.models import Sequential\n",
    "from keras.layers import Embedding, Flatten, Dense"
   ]
  },
  {
   "cell_type": "code",
   "execution_count": 17,
   "id": "bearing-cutting",
   "metadata": {},
   "outputs": [
    {
     "name": "stdout",
     "output_type": "stream",
     "text": [
      "Model: \"sequential\"\n",
      "_________________________________________________________________\n",
      "Layer (type)                 Output Shape              Param #   \n",
      "=================================================================\n",
      "embedding (Embedding)        (None, 100, 100)          100000    \n",
      "_________________________________________________________________\n",
      "dense (Dense)                (None, 100, 32)           3232      \n",
      "_________________________________________________________________\n",
      "dense_1 (Dense)              (None, 100, 1)            33        \n",
      "=================================================================\n",
      "Total params: 103,265\n",
      "Trainable params: 103,265\n",
      "Non-trainable params: 0\n",
      "_________________________________________________________________\n"
     ]
    }
   ],
   "source": [
    "model = Sequential()\n",
    "model.add(Embedding(max_words, embedding_dim, input_length=maxlen))\n",
    "model.add(Dense(32, activation='relu'))\n",
    "model.add(Dense(1, activation='sigmoid'))\n",
    "model.summary()"
   ]
  },
  {
   "cell_type": "code",
   "execution_count": 18,
   "id": "cloudy-therapist",
   "metadata": {},
   "outputs": [
    {
     "name": "stdout",
     "output_type": "stream",
     "text": [
      "Epoch 1/10\n",
      "7/7 [==============================] - 1s 79ms/step - loss: 0.6925 - acc: 0.5168 - val_loss: 0.6921 - val_acc: 0.5181\n",
      "Epoch 2/10\n",
      "7/7 [==============================] - 0s 29ms/step - loss: 0.6830 - acc: 0.5878 - val_loss: 0.6921 - val_acc: 0.5203\n",
      "Epoch 3/10\n",
      "7/7 [==============================] - 0s 26ms/step - loss: 0.6819 - acc: 0.5775 - val_loss: 0.6918 - val_acc: 0.5244\n",
      "Epoch 4/10\n",
      "7/7 [==============================] - 0s 25ms/step - loss: 0.6715 - acc: 0.6242 - val_loss: 0.6920 - val_acc: 0.5252\n",
      "Epoch 5/10\n",
      "7/7 [==============================] - 0s 26ms/step - loss: 0.6692 - acc: 0.6189 - val_loss: 0.6919 - val_acc: 0.5280\n",
      "Epoch 6/10\n",
      "7/7 [==============================] - 0s 31ms/step - loss: 0.6752 - acc: 0.5862 - val_loss: 0.6932 - val_acc: 0.5296\n",
      "Epoch 7/10\n",
      "7/7 [==============================] - 0s 26ms/step - loss: 0.6732 - acc: 0.5891 - val_loss: 0.6941 - val_acc: 0.5312\n",
      "Epoch 8/10\n",
      "7/7 [==============================] - 0s 25ms/step - loss: 0.6668 - acc: 0.5969 - val_loss: 0.6954 - val_acc: 0.5310\n",
      "Epoch 9/10\n",
      "7/7 [==============================] - 0s 25ms/step - loss: 0.6659 - acc: 0.5950 - val_loss: 0.6977 - val_acc: 0.5287\n",
      "Epoch 10/10\n",
      "7/7 [==============================] - 0s 25ms/step - loss: 0.6564 - acc: 0.6150 - val_loss: 0.6990 - val_acc: 0.5299\n"
     ]
    }
   ],
   "source": [
    "model.compile(optimizer='rmsprop',\n",
    "              loss='binary_crossentropy',\n",
    "              metrics=['acc'])\n",
    "history = model.fit(x_train, y_train,\n",
    "                    epochs=10,\n",
    "                    batch_size=32,\n",
    "                    validation_data=(x_val, y_val))"
   ]
  },
  {
   "cell_type": "code",
   "execution_count": 19,
   "id": "excessive-mandate",
   "metadata": {},
   "outputs": [],
   "source": [
    "test_dir = os.path.join(imdb_dir, 'test')\n",
    "\n",
    "labels = []\n",
    "texts = []\n",
    "\n",
    "for label_type in ['neg', 'pos']:\n",
    "    dir_name = os.path.join(test_dir, label_type)\n",
    "    for fname in sorted(os.listdir(dir_name)):\n",
    "        if fname[-4:] == '.txt':\n",
    "            f = open(os.path.join(dir_name, fname))\n",
    "            texts.append(f.read())\n",
    "            f.close()\n",
    "            if label_type == 'neg':\n",
    "                labels.append(0)\n",
    "            else:\n",
    "                labels.append(1)"
   ]
  },
  {
   "cell_type": "code",
   "execution_count": 20,
   "id": "authorized-professor",
   "metadata": {},
   "outputs": [],
   "source": [
    "sequences = tokenizer.texts_to_sequences(texts)\n",
    "x_test = keras.preprocessing.sequence.pad_sequences(sequences, maxlen=maxlen)\n",
    "y_test = np.asarray(labels)"
   ]
  },
  {
   "cell_type": "code",
   "execution_count": 21,
   "id": "cognitive-criminal",
   "metadata": {},
   "outputs": [
    {
     "name": "stdout",
     "output_type": "stream",
     "text": [
      "782/782 [==============================] - 2s 3ms/step - loss: 0.7005 - acc: 0.5270\n"
     ]
    },
    {
     "data": {
      "text/plain": [
       "[0.7004918456077576, 0.5269619822502136]"
      ]
     },
     "execution_count": 21,
     "metadata": {},
     "output_type": "execute_result"
    }
   ],
   "source": [
    "model.evaluate(x_test,y_test)"
   ]
  },
  {
   "cell_type": "code",
   "execution_count": 22,
   "id": "enclosed-drill",
   "metadata": {},
   "outputs": [],
   "source": [
    "import matplotlib.pyplot as plt"
   ]
  },
  {
   "cell_type": "code",
   "execution_count": 23,
   "id": "responsible-notebook",
   "metadata": {},
   "outputs": [],
   "source": [
    "acc = history.history['acc']\n",
    "val_acc = history.history['val_acc']\n",
    "loss = history.history['loss']\n",
    "val_loss = history.history['val_loss']\n",
    "\n",
    "epochs = range(1, len(acc) + 1)"
   ]
  },
  {
   "cell_type": "code",
   "execution_count": 24,
   "id": "unsigned-still",
   "metadata": {},
   "outputs": [
    {
     "data": {
      "image/png": "[encoded data removed]",
      "text/plain": [
       "<Figure size 432x288 with 1 Axes>"
      ]
     },
     "metadata": {
      "needs_background": "light"
     },
     "output_type": "display_data"
    },
    {
     "data": {
      "image/png": "[encoded data removed]",
      "text/plain": [
       "<Figure size 432x288 with 1 Axes>"
      ]
     },
     "metadata": {
      "needs_background": "light"
     },
     "output_type": "display_data"
    }
   ],
   "source": [
    "plt.plot(epochs, acc, 'bo', label='Training')\n",
    "plt.plot(epochs, val_acc, 'b', label='Validation')\n",
    "plt.title('Accuracy')\n",
    "plt.legend()\n",
    "\n",
    "plt.figure()\n",
    "\n",
    "plt.plot(epochs, loss, 'bo', label='Training')\n",
    "plt.plot(epochs, val_loss, 'b', label='Validation')\n",
    "plt.title('Loss')\n",
    "plt.legend()\n",
    "\n",
    "plt.show()"
   ]
  },
  {
   "cell_type": "markdown",
   "id": "passive-filing",
   "metadata": {},
   "source": [
    "# 10.3"
   ]
  },
  {
   "cell_type": "code",
   "execution_count": 25,
   "id": "bronze-scott",
   "metadata": {},
   "outputs": [],
   "source": [
    "from keras.layers import LSTM"
   ]
  },
  {
   "cell_type": "code",
   "execution_count": 26,
   "id": "legitimate-tyler",
   "metadata": {},
   "outputs": [],
   "source": [
    "model = Sequential()\n",
    "model.add(Embedding(max_words, embedding_dim, input_length=maxlen))\n",
    "model.add(LSTM(32))\n",
    "model.add(Dense(1, activation='sigmoid'))"
   ]
  },
  {
   "cell_type": "code",
   "execution_count": 27,
   "id": "human-package",
   "metadata": {},
   "outputs": [
    {
     "name": "stdout",
     "output_type": "stream",
     "text": [
      "Epoch 1/10\n",
      "2/2 [==============================] - 2s 502ms/step - loss: 0.6916 - acc: 0.5344 - val_loss: 0.6843 - val_acc: 0.6000\n",
      "Epoch 2/10\n",
      "2/2 [==============================] - 0s 135ms/step - loss: 0.6777 - acc: 0.5516 - val_loss: 0.6808 - val_acc: 0.6500\n",
      "Epoch 3/10\n",
      "2/2 [==============================] - 0s 123ms/step - loss: 0.6640 - acc: 0.6443 - val_loss: 0.6686 - val_acc: 0.6000\n",
      "Epoch 4/10\n",
      "2/2 [==============================] - 0s 134ms/step - loss: 0.6384 - acc: 0.5766 - val_loss: 0.6542 - val_acc: 0.6000\n",
      "Epoch 5/10\n",
      "2/2 [==============================] - 0s 123ms/step - loss: 0.5928 - acc: 0.5740 - val_loss: 0.6778 - val_acc: 0.6000\n",
      "Epoch 6/10\n",
      "2/2 [==============================] - 0s 127ms/step - loss: 0.5275 - acc: 0.6557 - val_loss: 0.6427 - val_acc: 0.6500\n",
      "Epoch 7/10\n",
      "2/2 [==============================] - 0s 125ms/step - loss: 0.5156 - acc: 0.8922 - val_loss: 0.6316 - val_acc: 0.6500\n",
      "Epoch 8/10\n",
      "2/2 [==============================] - 0s 136ms/step - loss: 0.4683 - acc: 0.9234 - val_loss: 0.6400 - val_acc: 0.7500\n",
      "Epoch 9/10\n",
      "2/2 [==============================] - 0s 142ms/step - loss: 0.4801 - acc: 0.9797 - val_loss: 0.7914 - val_acc: 0.6000\n",
      "Epoch 10/10\n",
      "2/2 [==============================] - 0s 122ms/step - loss: 0.4195 - acc: 0.8375 - val_loss: 0.6265 - val_acc: 0.7000\n"
     ]
    }
   ],
   "source": [
    "model.compile(optimizer='rmsprop',\n",
    "              loss='binary_crossentropy',\n",
    "              metrics=['acc'])\n",
    "history = model.fit(x_train, y_train,\n",
    "                    epochs=10,\n",
    "                    batch_size=128,\n",
    "                    validation_split=0.2)"
   ]
  },
  {
   "cell_type": "code",
   "execution_count": 28,
   "id": "seventh-sheet",
   "metadata": {},
   "outputs": [
    {
     "name": "stdout",
     "output_type": "stream",
     "text": [
      "782/782 [==============================] - 13s 17ms/step - loss: 0.6564 - acc: 0.6064\n"
     ]
    },
    {
     "data": {
      "text/plain": [
       "[0.6563993096351624, 0.6064000129699707]"
      ]
     },
     "execution_count": 28,
     "metadata": {},
     "output_type": "execute_result"
    }
   ],
   "source": [
    "model.evaluate(x_test,y_test)"
   ]
  },
  {
   "cell_type": "code",
   "execution_count": 31,
   "id": "dramatic-mistake",
   "metadata": {},
   "outputs": [],
   "source": [
    "acc = history.history['acc']\n",
    "val_acc = history.history['val_acc']\n",
    "loss = history.history['loss']\n",
    "val_loss = history.history['val_loss']\n",
    "\n",
    "epochs = range(1, len(acc) + 1)"
   ]
  },
  {
   "cell_type": "code",
   "execution_count": 32,
   "id": "international-census",
   "metadata": {},
   "outputs": [
    {
     "data": {
      "image/png": "[encoded data removed]",
      "text/plain": [
       "<Figure size 432x288 with 1 Axes>"
      ]
     },
     "metadata": {
      "needs_background": "light"
     },
     "output_type": "display_data"
    },
    {
     "data": {
      "image/png": "[encoded data removed]",
      "text/plain": [
       "<Figure size 432x288 with 1 Axes>"
      ]
     },
     "metadata": {
      "needs_background": "light"
     },
     "output_type": "display_data"
    }
   ],
   "source": [
    "plt.plot(epochs, acc, 'bo', label='Training')\n",
    "plt.plot(epochs, val_acc, 'b', label='Validation')\n",
    "plt.title('Accuracy')\n",
    "plt.legend()\n",
    "\n",
    "plt.figure()\n",
    "\n",
    "plt.plot(epochs, loss, 'bo', label='Training')\n",
    "plt.plot(epochs, val_loss, 'b', label='Validation')\n",
    "plt.title('Loss')\n",
    "plt.legend()\n",
    "\n",
    "plt.show()"
   ]
  },
  {
   "cell_type": "markdown",
   "id": "neither-midwest",
   "metadata": {},
   "source": [
    "# 10.4"
   ]
  },
  {
   "cell_type": "code",
   "execution_count": 33,
   "id": "expired-coral",
   "metadata": {},
   "outputs": [],
   "source": [
    "from keras import layers\n",
    "from keras.optimizers import RMSprop"
   ]
  },
  {
   "cell_type": "code",
   "execution_count": 34,
   "id": "liquid-brazil",
   "metadata": {},
   "outputs": [],
   "source": [
    "max_features = 1000\n",
    "max_len = 100"
   ]
  },
  {
   "cell_type": "code",
   "execution_count": 35,
   "id": "third-airline",
   "metadata": {},
   "outputs": [
    {
     "name": "stdout",
     "output_type": "stream",
     "text": [
      "Model: \"sequential_2\"\n",
      "_________________________________________________________________\n",
      "Layer (type)                 Output Shape              Param #   \n",
      "=================================================================\n",
      "embedding_2 (Embedding)      (None, 100, 128)          128000    \n",
      "_________________________________________________________________\n",
      "conv1d (Conv1D)              (None, 94, 32)            28704     \n",
      "_________________________________________________________________\n",
      "max_pooling1d (MaxPooling1D) (None, 18, 32)            0         \n",
      "_________________________________________________________________\n",
      "conv1d_1 (Conv1D)            (None, 12, 32)            7200      \n",
      "_________________________________________________________________\n",
      "flatten (Flatten)            (None, 384)               0         \n",
      "_________________________________________________________________\n",
      "dense_3 (Dense)              (None, 1)                 385       \n",
      "=================================================================\n",
      "Total params: 164,289\n",
      "Trainable params: 164,289\n",
      "Non-trainable params: 0\n",
      "_________________________________________________________________\n"
     ]
    }
   ],
   "source": [
    "model = Sequential()\n",
    "model.add(layers.Embedding(max_features, 128, input_length=max_len))\n",
    "model.add(layers.Conv1D(32, 7, activation='relu'))\n",
    "model.add(layers.MaxPooling1D(5))\n",
    "model.add(layers.Conv1D(32, 7, activation='relu'))\n",
    "model.add(layers.Flatten())\n",
    "model.add(layers.Dense(1))\n",
    "\n",
    "model.summary()"
   ]
  },
  {
   "cell_type": "code",
   "execution_count": 36,
   "id": "continental-knife",
   "metadata": {},
   "outputs": [
    {
     "name": "stdout",
     "output_type": "stream",
     "text": [
      "Epoch 1/100\n",
      "2/2 [==============================] - 1s 177ms/step - loss: 8.0245 - acc: 0.4661 - val_loss: 7.0168 - val_acc: 0.4000\n",
      "Epoch 2/100\n",
      "2/2 [==============================] - 0s 64ms/step - loss: 6.6574 - acc: 0.4609 - val_loss: 4.1004 - val_acc: 0.4000\n",
      "Epoch 3/100\n",
      "2/2 [==============================] - 0s 44ms/step - loss: 3.8734 - acc: 0.4635 - val_loss: 3.4342 - val_acc: 0.4000\n",
      "Epoch 4/100\n",
      "2/2 [==============================] - 0s 51ms/step - loss: 3.1328 - acc: 0.4635 - val_loss: 2.8710 - val_acc: 0.4000\n",
      "Epoch 5/100\n",
      "2/2 [==============================] - 0s 53ms/step - loss: 2.5318 - acc: 0.4661 - val_loss: 2.7081 - val_acc: 0.4000\n",
      "Epoch 6/100\n",
      "2/2 [==============================] - 0s 40ms/step - loss: 2.2535 - acc: 0.4766 - val_loss: 2.2562 - val_acc: 0.4000\n",
      "Epoch 7/100\n",
      "2/2 [==============================] - 0s 52ms/step - loss: 2.1217 - acc: 0.4766 - val_loss: 2.0840 - val_acc: 0.4000\n",
      "Epoch 8/100\n",
      "2/2 [==============================] - 0s 48ms/step - loss: 2.0798 - acc: 0.4609 - val_loss: 2.0256 - val_acc: 0.4000\n",
      "Epoch 9/100\n",
      "2/2 [==============================] - 0s 50ms/step - loss: 1.9758 - acc: 0.4714 - val_loss: 1.8090 - val_acc: 0.4000\n",
      "Epoch 10/100\n",
      "2/2 [==============================] - 0s 44ms/step - loss: 1.5360 - acc: 0.4818 - val_loss: 1.7881 - val_acc: 0.4000\n",
      "Epoch 11/100\n",
      "2/2 [==============================] - 0s 45ms/step - loss: 1.4394 - acc: 0.4740 - val_loss: 1.7554 - val_acc: 0.4000\n",
      "Epoch 12/100\n",
      "2/2 [==============================] - 0s 55ms/step - loss: 1.4418 - acc: 0.4583 - val_loss: 1.7428 - val_acc: 0.4000\n",
      "Epoch 13/100\n",
      "2/2 [==============================] - 0s 52ms/step - loss: 1.3650 - acc: 0.4792 - val_loss: 1.7256 - val_acc: 0.4000\n",
      "Epoch 14/100\n",
      "2/2 [==============================] - 0s 54ms/step - loss: 1.3533 - acc: 0.4740 - val_loss: 1.7089 - val_acc: 0.4000\n",
      "Epoch 15/100\n",
      "2/2 [==============================] - 0s 56ms/step - loss: 1.3513 - acc: 0.4688 - val_loss: 1.6934 - val_acc: 0.4000\n",
      "Epoch 16/100\n",
      "2/2 [==============================] - 0s 51ms/step - loss: 1.3224 - acc: 0.4714 - val_loss: 1.6762 - val_acc: 0.4000\n",
      "Epoch 17/100\n",
      "2/2 [==============================] - 0s 44ms/step - loss: 1.3023 - acc: 0.4740 - val_loss: 1.6590 - val_acc: 0.4000\n",
      "Epoch 18/100\n",
      "2/2 [==============================] - 0s 44ms/step - loss: 1.2890 - acc: 0.4714 - val_loss: 1.6419 - val_acc: 0.4000\n",
      "Epoch 19/100\n",
      "2/2 [==============================] - 0s 56ms/step - loss: 1.2709 - acc: 0.4688 - val_loss: 1.6241 - val_acc: 0.4000\n",
      "Epoch 20/100\n",
      "2/2 [==============================] - 0s 48ms/step - loss: 1.2580 - acc: 0.4661 - val_loss: 1.6057 - val_acc: 0.4000\n",
      "Epoch 21/100\n",
      "2/2 [==============================] - 0s 55ms/step - loss: 1.2528 - acc: 0.4635 - val_loss: 1.5890 - val_acc: 0.4000\n",
      "Epoch 22/100\n",
      "2/2 [==============================] - 0s 42ms/step - loss: 1.2083 - acc: 0.4740 - val_loss: 1.5687 - val_acc: 0.4000\n",
      "Epoch 23/100\n",
      "2/2 [==============================] - 0s 50ms/step - loss: 1.2043 - acc: 0.4688 - val_loss: 1.5503 - val_acc: 0.4000\n",
      "Epoch 24/100\n",
      "2/2 [==============================] - 0s 47ms/step - loss: 1.1921 - acc: 0.4635 - val_loss: 1.5318 - val_acc: 0.4000\n",
      "Epoch 25/100\n",
      "2/2 [==============================] - 0s 45ms/step - loss: 1.1501 - acc: 0.4766 - val_loss: 1.5106 - val_acc: 0.4000\n",
      "Epoch 26/100\n",
      "2/2 [==============================] - 0s 58ms/step - loss: 1.1557 - acc: 0.4635 - val_loss: 1.4911 - val_acc: 0.4000\n",
      "Epoch 27/100\n",
      "2/2 [==============================] - 0s 52ms/step - loss: 1.1234 - acc: 0.4714 - val_loss: 1.4700 - val_acc: 0.4000\n",
      "Epoch 28/100\n",
      "2/2 [==============================] - 0s 43ms/step - loss: 1.1109 - acc: 0.4688 - val_loss: 1.4495 - val_acc: 0.4000\n",
      "Epoch 29/100\n",
      "2/2 [==============================] - 0s 50ms/step - loss: 1.0920 - acc: 0.4688 - val_loss: 1.4290 - val_acc: 0.4000\n",
      "Epoch 30/100\n",
      "2/2 [==============================] - 0s 46ms/step - loss: 1.0775 - acc: 0.4661 - val_loss: 1.4083 - val_acc: 0.4000\n",
      "Epoch 31/100\n",
      "2/2 [==============================] - 0s 47ms/step - loss: 1.0551 - acc: 0.4688 - val_loss: 1.3865 - val_acc: 0.4000\n",
      "Epoch 32/100\n",
      "2/2 [==============================] - 0s 45ms/step - loss: 1.0266 - acc: 0.4740 - val_loss: 1.3631 - val_acc: 0.4000\n",
      "Epoch 33/100\n",
      "2/2 [==============================] - 0s 45ms/step - loss: 1.0186 - acc: 0.4688 - val_loss: 1.3419 - val_acc: 0.4000\n",
      "Epoch 34/100\n",
      "2/2 [==============================] - 0s 48ms/step - loss: 1.0101 - acc: 0.4609 - val_loss: 1.3222 - val_acc: 0.4000\n",
      "Epoch 35/100\n",
      "2/2 [==============================] - 0s 40ms/step - loss: 0.9743 - acc: 0.4714 - val_loss: 1.2987 - val_acc: 0.4000\n",
      "Epoch 36/100\n",
      "2/2 [==============================] - 0s 40ms/step - loss: 0.9553 - acc: 0.4714 - val_loss: 1.2755 - val_acc: 0.4000\n",
      "Epoch 37/100\n",
      "2/2 [==============================] - 0s 43ms/step - loss: 0.9390 - acc: 0.4688 - val_loss: 1.2522 - val_acc: 0.4000\n",
      "Epoch 38/100\n",
      "2/2 [==============================] - 0s 39ms/step - loss: 0.9339 - acc: 0.4609 - val_loss: 1.2324 - val_acc: 0.4000\n",
      "Epoch 39/100\n",
      "2/2 [==============================] - 0s 43ms/step - loss: 0.8936 - acc: 0.4740 - val_loss: 1.2075 - val_acc: 0.4000\n",
      "Epoch 40/100\n",
      "2/2 [==============================] - 0s 46ms/step - loss: 0.8821 - acc: 0.4688 - val_loss: 1.1845 - val_acc: 0.4000\n",
      "Epoch 41/100\n",
      "2/2 [==============================] - 0s 49ms/step - loss: 0.8522 - acc: 0.4766 - val_loss: 1.1588 - val_acc: 0.4000\n",
      "Epoch 42/100\n",
      "2/2 [==============================] - 0s 50ms/step - loss: 0.8487 - acc: 0.4661 - val_loss: 1.1371 - val_acc: 0.4000\n",
      "Epoch 43/100\n",
      "2/2 [==============================] - 0s 47ms/step - loss: 0.8382 - acc: 0.4609 - val_loss: 1.1179 - val_acc: 0.4000\n",
      "Epoch 44/100\n",
      "2/2 [==============================] - 0s 52ms/step - loss: 0.8375 - acc: 0.4479 - val_loss: 1.1032 - val_acc: 0.4000\n",
      "Epoch 45/100\n",
      "2/2 [==============================] - 0s 45ms/step - loss: 0.7951 - acc: 0.4714 - val_loss: 1.0800 - val_acc: 0.4000\n",
      "Epoch 46/100\n",
      "2/2 [==============================] - 0s 47ms/step - loss: 0.7807 - acc: 0.4661 - val_loss: 1.0589 - val_acc: 0.4000\n",
      "Epoch 47/100\n",
      "2/2 [==============================] - 0s 42ms/step - loss: 0.7535 - acc: 0.4766 - val_loss: 1.0347 - val_acc: 0.4000\n",
      "Epoch 48/100\n",
      "2/2 [==============================] - 0s 48ms/step - loss: 0.7496 - acc: 0.4635 - val_loss: 1.0163 - val_acc: 0.4000\n",
      "Epoch 49/100\n",
      "2/2 [==============================] - 0s 47ms/step - loss: 0.7199 - acc: 0.4740 - val_loss: 0.9936 - val_acc: 0.4000\n",
      "Epoch 50/100\n",
      "2/2 [==============================] - 0s 47ms/step - loss: 0.7164 - acc: 0.4635 - val_loss: 0.9765 - val_acc: 0.4000\n",
      "Epoch 51/100\n",
      "2/2 [==============================] - 0s 46ms/step - loss: 0.7076 - acc: 0.4583 - val_loss: 0.9618 - val_acc: 0.4000\n",
      "Epoch 52/100\n",
      "2/2 [==============================] - 0s 47ms/step - loss: 0.6774 - acc: 0.4740 - val_loss: 0.9399 - val_acc: 0.4000\n",
      "Epoch 53/100\n",
      "2/2 [==============================] - 0s 51ms/step - loss: 0.6656 - acc: 0.4688 - val_loss: 0.9219 - val_acc: 0.4000\n",
      "Epoch 54/100\n",
      "2/2 [==============================] - 0s 47ms/step - loss: 0.6408 - acc: 0.4792 - val_loss: 0.9009 - val_acc: 0.4000\n",
      "Epoch 55/100\n",
      "2/2 [==============================] - 0s 47ms/step - loss: 0.6364 - acc: 0.4661 - val_loss: 0.8857 - val_acc: 0.4000\n",
      "Epoch 56/100\n",
      "2/2 [==============================] - 0s 43ms/step - loss: 0.6248 - acc: 0.4661 - val_loss: 0.8714 - val_acc: 0.4000\n",
      "Epoch 57/100\n",
      "2/2 [==============================] - 0s 47ms/step - loss: 0.6113 - acc: 0.4635 - val_loss: 0.8582 - val_acc: 0.4000\n",
      "Epoch 58/100\n",
      "2/2 [==============================] - 0s 50ms/step - loss: 0.5938 - acc: 0.4823 - val_loss: 0.8416 - val_acc: 0.4000\n",
      "Epoch 59/100\n",
      "2/2 [==============================] - 0s 49ms/step - loss: 0.5922 - acc: 0.4802 - val_loss: 0.8340 - val_acc: 0.4000\n",
      "Epoch 60/100\n",
      "2/2 [==============================] - 0s 45ms/step - loss: 0.5719 - acc: 0.5052 - val_loss: 0.8181 - val_acc: 0.4000\n",
      "Epoch 61/100\n",
      "2/2 [==============================] - 0s 47ms/step - loss: 0.5555 - acc: 0.6208 - val_loss: 0.8018 - val_acc: 0.4000\n",
      "Epoch 62/100\n",
      "2/2 [==============================] - 0s 49ms/step - loss: 0.5471 - acc: 0.6995 - val_loss: 0.7899 - val_acc: 0.4000\n",
      "Epoch 63/100\n",
      "2/2 [==============================] - 0s 42ms/step - loss: 0.5364 - acc: 0.8167 - val_loss: 0.7799 - val_acc: 0.4000\n",
      "Epoch 64/100\n",
      "2/2 [==============================] - 0s 51ms/step - loss: 0.5267 - acc: 0.8589 - val_loss: 0.7725 - val_acc: 0.4000\n",
      "Epoch 65/100\n",
      "2/2 [==============================] - 0s 50ms/step - loss: 0.5154 - acc: 0.9130 - val_loss: 0.7626 - val_acc: 0.4000\n",
      "Epoch 66/100\n",
      "2/2 [==============================] - 0s 47ms/step - loss: 0.5066 - acc: 0.9188 - val_loss: 0.7517 - val_acc: 0.4000\n",
      "Epoch 67/100\n",
      "2/2 [==============================] - 0s 39ms/step - loss: 0.4969 - acc: 0.9510 - val_loss: 0.7479 - val_acc: 0.4000\n",
      "Epoch 68/100\n",
      "2/2 [==============================] - 0s 44ms/step - loss: 0.4887 - acc: 0.9510 - val_loss: 0.7442 - val_acc: 0.4000\n",
      "Epoch 69/100\n",
      "2/2 [==============================] - 0s 45ms/step - loss: 0.4802 - acc: 0.9484 - val_loss: 0.7374 - val_acc: 0.4250\n",
      "Epoch 70/100\n",
      "2/2 [==============================] - 0s 45ms/step - loss: 0.4698 - acc: 0.9484 - val_loss: 0.7279 - val_acc: 0.3750\n",
      "Epoch 71/100\n",
      "2/2 [==============================] - 0s 46ms/step - loss: 0.4595 - acc: 0.9688 - val_loss: 0.7192 - val_acc: 0.3750\n",
      "Epoch 72/100\n",
      "2/2 [==============================] - 0s 48ms/step - loss: 0.4503 - acc: 0.9797 - val_loss: 0.7123 - val_acc: 0.4250\n",
      "Epoch 73/100\n",
      "2/2 [==============================] - 0s 52ms/step - loss: 0.4396 - acc: 0.9823 - val_loss: 0.7143 - val_acc: 0.4000\n",
      "Epoch 74/100\n",
      "2/2 [==============================] - 0s 69ms/step - loss: 0.4352 - acc: 0.9865 - val_loss: 0.7113 - val_acc: 0.4250\n",
      "Epoch 75/100\n",
      "2/2 [==============================] - 0s 47ms/step - loss: 0.4255 - acc: 0.9865 - val_loss: 0.7130 - val_acc: 0.4000\n",
      "Epoch 76/100\n",
      "2/2 [==============================] - 0s 44ms/step - loss: 0.4179 - acc: 0.9891 - val_loss: 0.7139 - val_acc: 0.4250\n",
      "Epoch 77/100\n",
      "2/2 [==============================] - 0s 47ms/step - loss: 0.4119 - acc: 0.9865 - val_loss: 0.7063 - val_acc: 0.4750\n",
      "Epoch 78/100\n",
      "2/2 [==============================] - 0s 42ms/step - loss: 0.4004 - acc: 0.9932 - val_loss: 0.7015 - val_acc: 0.4750\n",
      "Epoch 79/100\n",
      "2/2 [==============================] - 0s 49ms/step - loss: 0.3926 - acc: 0.9958 - val_loss: 0.6962 - val_acc: 0.4750\n",
      "Epoch 80/100\n",
      "2/2 [==============================] - 0s 47ms/step - loss: 0.3845 - acc: 0.9865 - val_loss: 0.6951 - val_acc: 0.4750\n",
      "Epoch 81/100\n",
      "2/2 [==============================] - 0s 53ms/step - loss: 0.3745 - acc: 0.9891 - val_loss: 0.6958 - val_acc: 0.4750\n",
      "Epoch 82/100\n",
      "2/2 [==============================] - 0s 47ms/step - loss: 0.3684 - acc: 0.9865 - val_loss: 0.6888 - val_acc: 0.5250\n",
      "Epoch 83/100\n",
      "2/2 [==============================] - 0s 41ms/step - loss: 0.3588 - acc: 0.9865 - val_loss: 0.6911 - val_acc: 0.5250\n",
      "Epoch 84/100\n",
      "2/2 [==============================] - 0s 42ms/step - loss: 0.3509 - acc: 0.9891 - val_loss: 0.6911 - val_acc: 0.5250\n",
      "Epoch 85/100\n",
      "2/2 [==============================] - 0s 56ms/step - loss: 0.3409 - acc: 0.9891 - val_loss: 0.6916 - val_acc: 0.4750\n",
      "Epoch 86/100\n",
      "2/2 [==============================] - 0s 50ms/step - loss: 0.3319 - acc: 0.9958 - val_loss: 0.6937 - val_acc: 0.4750\n",
      "Epoch 87/100\n",
      "2/2 [==============================] - 0s 43ms/step - loss: 0.3256 - acc: 1.0000 - val_loss: 0.6893 - val_acc: 0.5250\n",
      "Epoch 88/100\n",
      "2/2 [==============================] - 0s 49ms/step - loss: 0.3158 - acc: 0.9865 - val_loss: 0.6957 - val_acc: 0.4750\n",
      "Epoch 89/100\n",
      "2/2 [==============================] - 0s 51ms/step - loss: 0.3082 - acc: 1.0000 - val_loss: 0.6946 - val_acc: 0.4750\n",
      "Epoch 90/100\n",
      "2/2 [==============================] - 0s 48ms/step - loss: 0.3000 - acc: 1.0000 - val_loss: 0.6937 - val_acc: 0.5250\n",
      "Epoch 91/100\n",
      "2/2 [==============================] - 0s 50ms/step - loss: 0.2895 - acc: 1.0000 - val_loss: 0.6889 - val_acc: 0.5250\n",
      "Epoch 92/100\n",
      "2/2 [==============================] - 0s 45ms/step - loss: 0.2824 - acc: 0.9932 - val_loss: 0.6882 - val_acc: 0.5250\n",
      "Epoch 93/100\n",
      "2/2 [==============================] - 0s 48ms/step - loss: 0.2741 - acc: 0.9932 - val_loss: 0.6894 - val_acc: 0.5250\n",
      "Epoch 94/100\n",
      "2/2 [==============================] - 0s 44ms/step - loss: 0.2619 - acc: 1.0000 - val_loss: 0.6878 - val_acc: 0.5250\n",
      "Epoch 95/100\n",
      "2/2 [==============================] - 0s 45ms/step - loss: 0.2514 - acc: 0.9865 - val_loss: 0.6853 - val_acc: 0.5250\n",
      "Epoch 96/100\n",
      "2/2 [==============================] - 0s 53ms/step - loss: 0.2461 - acc: 0.9865 - val_loss: 0.6816 - val_acc: 0.5250\n",
      "Epoch 97/100\n",
      "2/2 [==============================] - 0s 44ms/step - loss: 0.2338 - acc: 0.9823 - val_loss: 0.6818 - val_acc: 0.5250\n",
      "Epoch 98/100\n",
      "2/2 [==============================] - 0s 49ms/step - loss: 0.2238 - acc: 0.9849 - val_loss: 0.6863 - val_acc: 0.5000\n",
      "Epoch 99/100\n",
      "2/2 [==============================] - 0s 47ms/step - loss: 0.2175 - acc: 0.9932 - val_loss: 0.6871 - val_acc: 0.5750\n",
      "Epoch 100/100\n",
      "2/2 [==============================] - 0s 53ms/step - loss: 0.2063 - acc: 0.9891 - val_loss: 0.6853 - val_acc: 0.5000\n"
     ]
    }
   ],
   "source": [
    "model.compile(optimizer=RMSprop(lr=1e-4),\n",
    "              loss='binary_crossentropy',\n",
    "              metrics=['acc'])\n",
    "history = model.fit(x_train, y_train,\n",
    "                    epochs=100,\n",
    "                    batch_size=128,\n",
    "                    validation_split=0.2)"
   ]
  },
  {
   "cell_type": "code",
   "execution_count": 37,
   "id": "ancient-belgium",
   "metadata": {},
   "outputs": [
    {
     "name": "stdout",
     "output_type": "stream",
     "text": [
      "782/782 [==============================] - 2s 3ms/step - loss: 0.6849 - acc: 0.5537\n"
     ]
    },
    {
     "data": {
      "text/plain": [
       "[0.6849227547645569, 0.5536800026893616]"
      ]
     },
     "execution_count": 37,
     "metadata": {},
     "output_type": "execute_result"
    }
   ],
   "source": [
    "model.evaluate(x_test,y_test)"
   ]
  },
  {
   "cell_type": "code",
   "execution_count": 38,
   "id": "smoking-confusion",
   "metadata": {},
   "outputs": [],
   "source": [
    "acc = history.history['acc']\n",
    "val_acc = history.history['val_acc']\n",
    "loss = history.history['loss']\n",
    "val_loss = history.history['val_loss']\n",
    "\n",
    "epochs = range(1, len(acc) + 1)"
   ]
  },
  {
   "cell_type": "code",
   "execution_count": 39,
   "id": "instrumental-blowing",
   "metadata": {},
   "outputs": [
    {
     "data": {
      "image/png": "[encoded data removed]",
      "text/plain": [
       "<Figure size 432x288 with 1 Axes>"
      ]
     },
     "metadata": {
      "needs_background": "light"
     },
     "output_type": "display_data"
    },
    {
     "data": {
      "image/png": "[encoded data removed]",
      "text/plain": [
       "<Figure size 432x288 with 1 Axes>"
      ]
     },
     "metadata": {
      "needs_background": "light"
     },
     "output_type": "display_data"
    }
   ],
   "source": [
    "plt.plot(epochs, acc, 'bo', label='Training')\n",
    "plt.plot(epochs, val_acc, 'b', label='Validation')\n",
    "plt.title('Accuracy')\n",
    "plt.legend()\n",
    "\n",
    "plt.figure()\n",
    "\n",
    "plt.plot(epochs, loss, 'bo', label='Training')\n",
    "plt.plot(epochs, val_loss, 'b', label='Validation')\n",
    "plt.title('Loss')\n",
    "plt.legend()\n",
    "\n",
    "plt.show()"
   ]
  },
  {
   "cell_type": "code",
   "execution_count": null,
   "id": "painted-horizon",
   "metadata": {},
   "outputs": [],
   "source": []
  }
 ],
 "metadata": {
  "kernelspec": {
   "display_name": "Python 3",
   "language": "python",
   "name": "python3"
  },
  "language_info": {
   "codemirror_mode": {
    "name": "ipython",
    "version": 3
   },
   "file_extension": ".py",
   "mimetype": "text/x-python",
   "name": "python",
   "nbconvert_exporter": "python",
   "pygments_lexer": "ipython3",
   "version": "3.8.8"
  }
 },
 "nbformat": 4,
 "nbformat_minor": 5
}
