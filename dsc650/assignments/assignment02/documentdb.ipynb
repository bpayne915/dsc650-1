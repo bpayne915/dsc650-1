{
 "cells": [
  {
   "cell_type": "code",
   "execution_count": 67,
   "metadata": {},
   "outputs": [],
   "source": [
    "from pathlib import Path\n",
    "import json\n",
    "import os\n",
    "from tinydb import TinyDB\n",
    "current_dir = Path(os.getcwd()).absolute()\n",
    "results_dir = current_dir.joinpath('results')\n",
    "kv_data_dir = results_dir.joinpath('kvdb')\n",
    "kv_data_dir.mkdir(parents=True, exist_ok=True)\n",
    "\n",
    "def _load_json(json_path):\n",
    "    with open(json_path) as f:\n",
    "        return json.load(f)\n",
    "    \n",
    "class DocumentDB(object):\n",
    "    def __init__(self, db_path):\n",
    "        people_json = kv_data_dir.joinpath('people.json')\n",
    "        visited_json = kv_data_dir.joinpath('visited.json')\n",
    "        sites_json = kv_data_dir.joinpath('sites.json')\n",
    "        measurements_json = kv_data_dir.joinpath('measurements.json')\n",
    "        self._db_path = Path(db_path)\n",
    "        self._db = None\n",
    "        self.personLookup = _load_json(people_json)\n",
    "\n",
    "        self.measurementLookup = _load_json(measurements_json)\n",
    "        self.visitLookup = _load_json(visited_json)\n",
    "        self.siteLookup = _load_json(sites_json)\n",
    "\n",
    "        self._load_db()\n",
    "        \n",
    "    def getSites(self, site_id):\n",
    "        return self.siteLookup[str(site_id)]\n",
    "    \n",
    "    def getMeasurements(self, person_id):\n",
    "        measurements = []\n",
    "        for values in self.measurementLookup.values():\n",
    "            if str(values['person_id']) == str(person_id):\n",
    "                measurements.append(values)\n",
    "        return measurements\n",
    "    \n",
    "    def getVisits(self, visit_id):\n",
    "        visit = self.visitLookup.get(str(visit_id))\n",
    "        site_id = str(visit['site_id'])\n",
    "        site = self.siteLookup[site_id]\n",
    "        visit['site'] = site\n",
    "        return visit\n",
    "    \n",
    "    def _load_db(self):\n",
    "        self._db = TinyDB(self._db_path)\n",
    "        persons = self.personLookup.items()\n",
    "        for person_id, record in persons:\n",
    "            measurements = self.getMeasurements(person_id)\n",
    "            visitIDs = set([measurement['visit_id'] for measurement in measurements])\n",
    "            visits = []\n",
    "            for visit_id in visitIDs:\n",
    "                visit = self.getVisits(visit_id)\n",
    "                visit['measurements'] = [\n",
    "                    measurement for measurement in measurements\n",
    "                    if visit_id == measurement['visit_id']\n",
    "                ]\n",
    "                visits.append(visit)\n",
    "            record['visits'] = visits\n",
    "            self._db.insert(record)"
   ]
  },
  {
   "cell_type": "code",
   "execution_count": 68,
   "metadata": {},
   "outputs": [],
   "source": [
    "db_path = results_dir.joinpath('patient-info.json')\n",
    "if db_path.exists():\n",
    "    os.remove(db_path)\n",
    "\n",
    "db = DocumentDB(db_path)"
   ]
  },
  {
   "cell_type": "code",
   "execution_count": null,
   "metadata": {},
   "outputs": [],
   "source": []
  },
  {
   "cell_type": "code",
   "execution_count": null,
   "metadata": {},
   "outputs": [],
   "source": []
  }
 ],
 "metadata": {
  "kernelspec": {
   "display_name": "Python 3",
   "language": "python",
   "name": "python3"
  },
  "language_info": {
   "codemirror_mode": {
    "name": "ipython",
    "version": 3
   },
   "file_extension": ".py",
   "mimetype": "text/x-python",
   "name": "python",
   "nbconvert_exporter": "python",
   "pygments_lexer": "ipython3",
   "version": "3.8.8"
  }
 },
 "nbformat": 4,
 "nbformat_minor": 4
}
