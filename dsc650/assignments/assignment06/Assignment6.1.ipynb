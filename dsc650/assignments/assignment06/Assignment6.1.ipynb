{
 "cells": [
  {
   "cell_type": "code",
   "execution_count": 1,
   "id": "intellectual-immunology",
   "metadata": {},
   "outputs": [],
   "source": [
    "from keras import layers\n",
    "from keras import models\n",
    "\n",
    "model = models.Sequential()\n",
    "model.add(layers.Conv2D(32, (3, 3), activation='relu', input_shape=(28, 28, 1)))\n",
    "model.add(layers.MaxPooling2D((2, 2)))\n",
    "model.add(layers.Conv2D(64, (3, 3), activation='relu'))\n",
    "model.add(layers.MaxPooling2D((2, 2)))\n",
    "model.add(layers.Conv2D(64, (3, 3), activation='relu'))"
   ]
  },
  {
   "cell_type": "code",
   "execution_count": 2,
   "id": "moved-unknown",
   "metadata": {},
   "outputs": [
    {
     "name": "stdout",
     "output_type": "stream",
     "text": [
      "Model: \"sequential\"\n",
      "_________________________________________________________________\n",
      "Layer (type)                 Output Shape              Param #   \n",
      "=================================================================\n",
      "conv2d (Conv2D)              (None, 26, 26, 32)        320       \n",
      "_________________________________________________________________\n",
      "max_pooling2d (MaxPooling2D) (None, 13, 13, 32)        0         \n",
      "_________________________________________________________________\n",
      "conv2d_1 (Conv2D)            (None, 11, 11, 64)        18496     \n",
      "_________________________________________________________________\n",
      "max_pooling2d_1 (MaxPooling2 (None, 5, 5, 64)          0         \n",
      "_________________________________________________________________\n",
      "conv2d_2 (Conv2D)            (None, 3, 3, 64)          36928     \n",
      "=================================================================\n",
      "Total params: 55,744\n",
      "Trainable params: 55,744\n",
      "Non-trainable params: 0\n",
      "_________________________________________________________________\n"
     ]
    }
   ],
   "source": [
    "model.summary()"
   ]
  },
  {
   "cell_type": "markdown",
   "id": "aggregate-teach",
   "metadata": {},
   "source": [
    "Adding a classifier on top of the convnet"
   ]
  },
  {
   "cell_type": "code",
   "execution_count": 3,
   "id": "voluntary-pursuit",
   "metadata": {},
   "outputs": [],
   "source": [
    "model.add(layers.Flatten())\n",
    "model.add(layers.Dense(64,activation='relu'))\n",
    "model.add(layers.Dense(10,activation='softmax'))"
   ]
  },
  {
   "cell_type": "code",
   "execution_count": 4,
   "id": "democratic-cattle",
   "metadata": {},
   "outputs": [
    {
     "name": "stdout",
     "output_type": "stream",
     "text": [
      "Model: \"sequential\"\n",
      "_________________________________________________________________\n",
      "Layer (type)                 Output Shape              Param #   \n",
      "=================================================================\n",
      "conv2d (Conv2D)              (None, 26, 26, 32)        320       \n",
      "_________________________________________________________________\n",
      "max_pooling2d (MaxPooling2D) (None, 13, 13, 32)        0         \n",
      "_________________________________________________________________\n",
      "conv2d_1 (Conv2D)            (None, 11, 11, 64)        18496     \n",
      "_________________________________________________________________\n",
      "max_pooling2d_1 (MaxPooling2 (None, 5, 5, 64)          0         \n",
      "_________________________________________________________________\n",
      "conv2d_2 (Conv2D)            (None, 3, 3, 64)          36928     \n",
      "_________________________________________________________________\n",
      "flatten (Flatten)            (None, 576)               0         \n",
      "_________________________________________________________________\n",
      "dense (Dense)                (None, 64)                36928     \n",
      "_________________________________________________________________\n",
      "dense_1 (Dense)              (None, 10)                650       \n",
      "=================================================================\n",
      "Total params: 93,322\n",
      "Trainable params: 93,322\n",
      "Non-trainable params: 0\n",
      "_________________________________________________________________\n"
     ]
    }
   ],
   "source": [
    "model.summary()"
   ]
  },
  {
   "cell_type": "markdown",
   "id": "surrounded-generator",
   "metadata": {},
   "source": [
    "Training the convnet on MNIST images"
   ]
  },
  {
   "cell_type": "code",
   "execution_count": 5,
   "id": "announced-retreat",
   "metadata": {},
   "outputs": [],
   "source": [
    "from keras.datasets import mnist\n",
    "from keras.utils import to_categorical\n",
    "\n",
    "(train_images, train_labels), (test_images, test_labels) = mnist.load_data()\n",
    "\n",
    "train_images = train_images.reshape((60000, 28, 28, 1))\n",
    "train_images = train_images.astype('float32') / 255\n",
    "\n",
    "test_images = test_images.reshape((10000, 28, 28, 1))\n",
    "test_images = test_images.astype('float32') / 255\n",
    "\n",
    "train_labels = to_categorical(train_labels)\n",
    "test_labels = to_categorical(test_labels)"
   ]
  },
  {
   "cell_type": "code",
   "execution_count": 7,
   "id": "personalized-florence",
   "metadata": {},
   "outputs": [
    {
     "name": "stdout",
     "output_type": "stream",
     "text": [
      "Epoch 1/50\n",
      "938/938 [==============================] - 13s 13ms/step - loss: 0.0160 - accuracy: 0.9951\n",
      "Epoch 2/50\n",
      "938/938 [==============================] - 12s 13ms/step - loss: 0.0105 - accuracy: 0.9970\n",
      "Epoch 3/50\n",
      "938/938 [==============================] - 12s 13ms/step - loss: 0.0099 - accuracy: 0.9976\n",
      "Epoch 4/50\n",
      "938/938 [==============================] - 12s 12ms/step - loss: 0.0079 - accuracy: 0.9975\n",
      "Epoch 5/50\n",
      "938/938 [==============================] - 12s 13ms/step - loss: 0.0066 - accuracy: 0.9981\n",
      "Epoch 6/50\n",
      "938/938 [==============================] - 11s 12ms/step - loss: 0.0060 - accuracy: 0.9980\n",
      "Epoch 7/50\n",
      "938/938 [==============================] - 12s 12ms/step - loss: 0.0064 - accuracy: 0.9981\n",
      "Epoch 8/50\n",
      "938/938 [==============================] - 12s 13ms/step - loss: 0.0051 - accuracy: 0.9983\n",
      "Epoch 9/50\n",
      "938/938 [==============================] - 12s 12ms/step - loss: 0.0037 - accuracy: 0.9988\n",
      "Epoch 10/50\n",
      "938/938 [==============================] - 12s 13ms/step - loss: 0.0035 - accuracy: 0.9989\n",
      "Epoch 11/50\n",
      "938/938 [==============================] - 12s 13ms/step - loss: 0.0027 - accuracy: 0.9992\n",
      "Epoch 12/50\n",
      "938/938 [==============================] - 12s 12ms/step - loss: 0.0036 - accuracy: 0.9989\n",
      "Epoch 13/50\n",
      "938/938 [==============================] - 12s 13ms/step - loss: 0.0032 - accuracy: 0.9993\n",
      "Epoch 14/50\n",
      "938/938 [==============================] - 12s 13ms/step - loss: 0.0036 - accuracy: 0.9989\n",
      "Epoch 15/50\n",
      "938/938 [==============================] - 12s 12ms/step - loss: 0.0031 - accuracy: 0.9993\n",
      "Epoch 16/50\n",
      "938/938 [==============================] - 12s 13ms/step - loss: 0.0028 - accuracy: 0.9992\n",
      "Epoch 17/50\n",
      "938/938 [==============================] - 12s 13ms/step - loss: 0.0019 - accuracy: 0.9995\n",
      "Epoch 18/50\n",
      "938/938 [==============================] - 12s 12ms/step - loss: 0.0034 - accuracy: 0.9990\n",
      "Epoch 19/50\n",
      "938/938 [==============================] - 12s 12ms/step - loss: 0.0023 - accuracy: 0.9993\n",
      "Epoch 20/50\n",
      "938/938 [==============================] - 12s 13ms/step - loss: 0.0019 - accuracy: 0.9995\n",
      "Epoch 21/50\n",
      "938/938 [==============================] - 12s 13ms/step - loss: 0.0022 - accuracy: 0.9994\n",
      "Epoch 22/50\n",
      "938/938 [==============================] - 12s 13ms/step - loss: 0.0017 - accuracy: 0.9995\n",
      "Epoch 23/50\n",
      "938/938 [==============================] - 12s 13ms/step - loss: 0.0026 - accuracy: 0.9994\n",
      "Epoch 24/50\n",
      "938/938 [==============================] - 12s 13ms/step - loss: 0.0032 - accuracy: 0.9994\n",
      "Epoch 25/50\n",
      "938/938 [==============================] - 12s 12ms/step - loss: 0.0027 - accuracy: 0.9994\n",
      "Epoch 26/50\n",
      "938/938 [==============================] - 12s 12ms/step - loss: 0.0011 - accuracy: 0.9997\n",
      "Epoch 27/50\n",
      "938/938 [==============================] - 12s 13ms/step - loss: 0.0017 - accuracy: 0.9996\n",
      "Epoch 28/50\n",
      "938/938 [==============================] - 12s 13ms/step - loss: 0.0014 - accuracy: 0.9997\n",
      "Epoch 29/50\n",
      "938/938 [==============================] - 14s 15ms/step - loss: 0.0012 - accuracy: 0.9997\n",
      "Epoch 30/50\n",
      "938/938 [==============================] - 14s 15ms/step - loss: 0.0015 - accuracy: 0.9996\n",
      "Epoch 31/50\n",
      "938/938 [==============================] - 14s 15ms/step - loss: 0.0020 - accuracy: 0.9997\n",
      "Epoch 32/50\n",
      "938/938 [==============================] - 14s 15ms/step - loss: 0.0018 - accuracy: 0.9996\n",
      "Epoch 33/50\n",
      "938/938 [==============================] - 14s 15ms/step - loss: 0.0043 - accuracy: 0.9993\n",
      "Epoch 34/50\n",
      "938/938 [==============================] - 13s 14ms/step - loss: 0.0013 - accuracy: 0.9997\n",
      "Epoch 35/50\n",
      "938/938 [==============================] - 14s 15ms/step - loss: 0.0020 - accuracy: 0.9996\n",
      "Epoch 36/50\n",
      "938/938 [==============================] - 14s 15ms/step - loss: 0.0011 - accuracy: 0.9998\n",
      "Epoch 37/50\n",
      "938/938 [==============================] - 14s 15ms/step - loss: 0.0014 - accuracy: 0.9997\n",
      "Epoch 38/50\n",
      "938/938 [==============================] - 14s 15ms/step - loss: 0.0011 - accuracy: 0.9998\n",
      "Epoch 39/50\n",
      "938/938 [==============================] - 14s 15ms/step - loss: 5.0512e-04 - accuracy: 0.9999\n",
      "Epoch 40/50\n",
      "938/938 [==============================] - 14s 15ms/step - loss: 0.0035 - accuracy: 0.9996\n",
      "Epoch 41/50\n",
      "938/938 [==============================] - 14s 15ms/step - loss: 0.0021 - accuracy: 0.9997\n",
      "Epoch 42/50\n",
      "938/938 [==============================] - 14s 15ms/step - loss: 5.8752e-04 - accuracy: 0.9998\n",
      "Epoch 43/50\n",
      "938/938 [==============================] - 14s 15ms/step - loss: 5.9608e-04 - accuracy: 0.9998\n",
      "Epoch 44/50\n",
      "938/938 [==============================] - 14s 15ms/step - loss: 0.0016 - accuracy: 0.9998\n",
      "Epoch 45/50\n",
      "938/938 [==============================] - 14s 15ms/step - loss: 0.0016 - accuracy: 0.9998\n",
      "Epoch 46/50\n",
      "938/938 [==============================] - 15s 16ms/step - loss: 0.0017 - accuracy: 0.9996\n",
      "Epoch 47/50\n",
      "938/938 [==============================] - 14s 15ms/step - loss: 0.0025 - accuracy: 0.9997\n",
      "Epoch 48/50\n",
      "938/938 [==============================] - 14s 15ms/step - loss: 8.2957e-04 - accuracy: 0.9999\n",
      "Epoch 49/50\n",
      "938/938 [==============================] - 14s 15ms/step - loss: 0.0045 - accuracy: 0.9994\n",
      "Epoch 50/50\n",
      "938/938 [==============================] - 14s 15ms/step - loss: 5.7232e-04 - accuracy: 0.9999\n"
     ]
    },
    {
     "data": {
      "text/plain": [
       "<tensorflow.python.keras.callbacks.History at 0x7f76081160a0>"
      ]
     },
     "execution_count": 7,
     "metadata": {},
     "output_type": "execute_result"
    }
   ],
   "source": [
    "model.compile(optimizer='rmsprop',\n",
    "              loss='categorical_crossentropy',\n",
    "              metrics=['accuracy'])\n",
    "model.fit(train_images, train_labels, epochs=50, batch_size=64)"
   ]
  },
  {
   "cell_type": "code",
   "execution_count": 8,
   "id": "promotional-difference",
   "metadata": {},
   "outputs": [
    {
     "name": "stdout",
     "output_type": "stream",
     "text": [
      "313/313 [==============================] - 2s 5ms/step - loss: 0.1520 - accuracy: 0.9923\n"
     ]
    },
    {
     "data": {
      "text/plain": [
       "0.9922999739646912"
      ]
     },
     "execution_count": 8,
     "metadata": {},
     "output_type": "execute_result"
    }
   ],
   "source": [
    "test_loss, test_acc = model.evaluate(test_images,test_labels)\n",
    "test_acc"
   ]
  },
  {
   "cell_type": "markdown",
   "id": "extreme-princess",
   "metadata": {},
   "source": [
    "Saving model"
   ]
  },
  {
   "cell_type": "code",
   "execution_count": 9,
   "id": "fitted-december",
   "metadata": {},
   "outputs": [],
   "source": [
    "model.save('./results/model_6_1.h5')"
   ]
  },
  {
   "cell_type": "code",
   "execution_count": 10,
   "id": "freelance-match",
   "metadata": {},
   "outputs": [],
   "source": [
    "import pandas as pd\n",
    "import numpy as np\n",
    "\n",
    "num_testing = len(test_images)\n",
    "pred = np.argmax(model.predict(test_images), axis=-1)\n",
    "sub_df = pd.DataFrame()\n",
    "sub_df[\"ImageId\"] = list(range(1, num_testing + 1))\n",
    "sub_df[\"Label\"] = pred"
   ]
  },
  {
   "cell_type": "code",
   "execution_count": 11,
   "id": "tight-township",
   "metadata": {},
   "outputs": [],
   "source": [
    "(train_images, train_labels), (test_images, test_labels) = mnist.load_data()\n",
    "\n",
    "sub_df[\"True_Label\"] = test_labels"
   ]
  },
  {
   "cell_type": "code",
   "execution_count": 12,
   "id": "analyzed-nelson",
   "metadata": {},
   "outputs": [
    {
     "data": {
      "text/html": [
       "<div>\n",
       "<style scoped>\n",
       "    .dataframe tbody tr th:only-of-type {\n",
       "        vertical-align: middle;\n",
       "    }\n",
       "\n",
       "    .dataframe tbody tr th {\n",
       "        vertical-align: top;\n",
       "    }\n",
       "\n",
       "    .dataframe thead th {\n",
       "        text-align: right;\n",
       "    }\n",
       "</style>\n",
       "<table border=\"1\" class=\"dataframe\">\n",
       "  <thead>\n",
       "    <tr style=\"text-align: right;\">\n",
       "      <th></th>\n",
       "      <th>ImageId</th>\n",
       "      <th>Label</th>\n",
       "      <th>True_Label</th>\n",
       "    </tr>\n",
       "  </thead>\n",
       "  <tbody>\n",
       "    <tr>\n",
       "      <th>0</th>\n",
       "      <td>1</td>\n",
       "      <td>7</td>\n",
       "      <td>7</td>\n",
       "    </tr>\n",
       "    <tr>\n",
       "      <th>1</th>\n",
       "      <td>2</td>\n",
       "      <td>2</td>\n",
       "      <td>2</td>\n",
       "    </tr>\n",
       "    <tr>\n",
       "      <th>2</th>\n",
       "      <td>3</td>\n",
       "      <td>1</td>\n",
       "      <td>1</td>\n",
       "    </tr>\n",
       "    <tr>\n",
       "      <th>3</th>\n",
       "      <td>4</td>\n",
       "      <td>0</td>\n",
       "      <td>0</td>\n",
       "    </tr>\n",
       "    <tr>\n",
       "      <th>4</th>\n",
       "      <td>5</td>\n",
       "      <td>4</td>\n",
       "      <td>4</td>\n",
       "    </tr>\n",
       "    <tr>\n",
       "      <th>...</th>\n",
       "      <td>...</td>\n",
       "      <td>...</td>\n",
       "      <td>...</td>\n",
       "    </tr>\n",
       "    <tr>\n",
       "      <th>9995</th>\n",
       "      <td>9996</td>\n",
       "      <td>2</td>\n",
       "      <td>2</td>\n",
       "    </tr>\n",
       "    <tr>\n",
       "      <th>9996</th>\n",
       "      <td>9997</td>\n",
       "      <td>3</td>\n",
       "      <td>3</td>\n",
       "    </tr>\n",
       "    <tr>\n",
       "      <th>9997</th>\n",
       "      <td>9998</td>\n",
       "      <td>4</td>\n",
       "      <td>4</td>\n",
       "    </tr>\n",
       "    <tr>\n",
       "      <th>9998</th>\n",
       "      <td>9999</td>\n",
       "      <td>5</td>\n",
       "      <td>5</td>\n",
       "    </tr>\n",
       "    <tr>\n",
       "      <th>9999</th>\n",
       "      <td>10000</td>\n",
       "      <td>6</td>\n",
       "      <td>6</td>\n",
       "    </tr>\n",
       "  </tbody>\n",
       "</table>\n",
       "<p>10000 rows × 3 columns</p>\n",
       "</div>"
      ],
      "text/plain": [
       "      ImageId  Label  True_Label\n",
       "0           1      7           7\n",
       "1           2      2           2\n",
       "2           3      1           1\n",
       "3           4      0           0\n",
       "4           5      4           4\n",
       "...       ...    ...         ...\n",
       "9995     9996      2           2\n",
       "9996     9997      3           3\n",
       "9997     9998      4           4\n",
       "9998     9999      5           5\n",
       "9999    10000      6           6\n",
       "\n",
       "[10000 rows x 3 columns]"
      ]
     },
     "execution_count": 12,
     "metadata": {},
     "output_type": "execute_result"
    }
   ],
   "source": [
    "sub_df"
   ]
  },
  {
   "cell_type": "code",
   "execution_count": 13,
   "id": "proprietary-michael",
   "metadata": {},
   "outputs": [
    {
     "data": {
      "text/html": [
       "<div>\n",
       "<style scoped>\n",
       "    .dataframe tbody tr th:only-of-type {\n",
       "        vertical-align: middle;\n",
       "    }\n",
       "\n",
       "    .dataframe tbody tr th {\n",
       "        vertical-align: top;\n",
       "    }\n",
       "\n",
       "    .dataframe thead th {\n",
       "        text-align: right;\n",
       "    }\n",
       "</style>\n",
       "<table border=\"1\" class=\"dataframe\">\n",
       "  <thead>\n",
       "    <tr style=\"text-align: right;\">\n",
       "      <th></th>\n",
       "      <th>ImageId</th>\n",
       "      <th>Label</th>\n",
       "      <th>True_Label</th>\n",
       "    </tr>\n",
       "  </thead>\n",
       "  <tbody>\n",
       "    <tr>\n",
       "      <th>340</th>\n",
       "      <td>341</td>\n",
       "      <td>3</td>\n",
       "      <td>5</td>\n",
       "    </tr>\n",
       "    <tr>\n",
       "      <th>445</th>\n",
       "      <td>446</td>\n",
       "      <td>0</td>\n",
       "      <td>6</td>\n",
       "    </tr>\n",
       "    <tr>\n",
       "      <th>447</th>\n",
       "      <td>448</td>\n",
       "      <td>9</td>\n",
       "      <td>4</td>\n",
       "    </tr>\n",
       "    <tr>\n",
       "      <th>551</th>\n",
       "      <td>552</td>\n",
       "      <td>9</td>\n",
       "      <td>7</td>\n",
       "    </tr>\n",
       "    <tr>\n",
       "      <th>582</th>\n",
       "      <td>583</td>\n",
       "      <td>2</td>\n",
       "      <td>8</td>\n",
       "    </tr>\n",
       "    <tr>\n",
       "      <th>...</th>\n",
       "      <td>...</td>\n",
       "      <td>...</td>\n",
       "      <td>...</td>\n",
       "    </tr>\n",
       "    <tr>\n",
       "      <th>8408</th>\n",
       "      <td>8409</td>\n",
       "      <td>6</td>\n",
       "      <td>8</td>\n",
       "    </tr>\n",
       "    <tr>\n",
       "      <th>9664</th>\n",
       "      <td>9665</td>\n",
       "      <td>7</td>\n",
       "      <td>2</td>\n",
       "    </tr>\n",
       "    <tr>\n",
       "      <th>9729</th>\n",
       "      <td>9730</td>\n",
       "      <td>6</td>\n",
       "      <td>5</td>\n",
       "    </tr>\n",
       "    <tr>\n",
       "      <th>9770</th>\n",
       "      <td>9771</td>\n",
       "      <td>0</td>\n",
       "      <td>5</td>\n",
       "    </tr>\n",
       "    <tr>\n",
       "      <th>9792</th>\n",
       "      <td>9793</td>\n",
       "      <td>9</td>\n",
       "      <td>4</td>\n",
       "    </tr>\n",
       "  </tbody>\n",
       "</table>\n",
       "<p>77 rows × 3 columns</p>\n",
       "</div>"
      ],
      "text/plain": [
       "      ImageId  Label  True_Label\n",
       "340       341      3           5\n",
       "445       446      0           6\n",
       "447       448      9           4\n",
       "551       552      9           7\n",
       "582       583      2           8\n",
       "...       ...    ...         ...\n",
       "8408     8409      6           8\n",
       "9664     9665      7           2\n",
       "9729     9730      6           5\n",
       "9770     9771      0           5\n",
       "9792     9793      9           4\n",
       "\n",
       "[77 rows x 3 columns]"
      ]
     },
     "execution_count": 13,
     "metadata": {},
     "output_type": "execute_result"
    }
   ],
   "source": [
    "sub_df[sub_df.Label != sub_df.True_Label]"
   ]
  },
  {
   "cell_type": "code",
   "execution_count": null,
   "id": "closing-shift",
   "metadata": {},
   "outputs": [],
   "source": []
  }
 ],
 "metadata": {
  "kernelspec": {
   "display_name": "Python 3",
   "language": "python",
   "name": "python3"
  },
  "language_info": {
   "codemirror_mode": {
    "name": "ipython",
    "version": 3
   },
   "file_extension": ".py",
   "mimetype": "text/x-python",
   "name": "python",
   "nbconvert_exporter": "python",
   "pygments_lexer": "ipython3",
   "version": "3.8.8"
  }
 },
 "nbformat": 4,
 "nbformat_minor": 5
}
